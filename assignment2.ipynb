{
 "cells": [
  {
   "attachments": {},
   "cell_type": "markdown",
   "metadata": {},
   "source": [
    "## Drugs Arrested Case\n",
    "\n",
    "### ปัจจัยที่ส่งผลต่อจำนวนคดีผู้ต้องหายาเสพติด\n",
    "#### by กลุ่ม ทุกปัญหามีทางเข้าเสมอ\n",
    "---"
   ]
  },
  {
   "cell_type": "code",
   "execution_count": null,
   "metadata": {},
   "outputs": [],
   "source": [
    "import pandas as pd\n",
    "import numpy as np\n",
    "import requests\n",
    "import json, io, time, urllib3, re\n",
    "import matplotlib.pyplot as plt\n",
    "import seaborn as sns\n",
    "from ipywidgets import widgets, interact\n",
    "urllib3.disable_warnings()"
   ]
  },
  {
   "attachments": {},
   "cell_type": "markdown",
   "metadata": {},
   "source": [
    "เกริ่นเรื่องปัญหายาเสพติดในไทย"
   ]
  },
  {
   "cell_type": "markdown",
   "metadata": {},
   "source": [
    "- จำนวนคดีเคส เรียงตามจังหวัด เอาปีล่าสุด - เลือกจังหวัดแสดงผลได้\n",
    "- ดูเทรนด์ rank top 3 แต่ละปี\n",
    "- เอาจังหวัดที่น่าสนใจ(สถิติอยู่ในท็อป3บ่อย) ex.นครศรีธรรมราช กรุงเทพ ปทุม สงขลา ขอนแก่น\n",
    "- ประชากรหนาแน่น ex.กรุงเทพ ขอนแก่น\n",
    "- ดูเรื่องนักท่องเที่ยว ฟีลเมืองเศรษฐกิจ ex.ชลบุรี\n",
    "- หัวข้อภาคใต้ เน้นนครศรี + เรื่องกระท่อม + อาชญากรรมอื่น\n",
    "- การกินเหล้า & เล่นยาสวนทางกัน"
   ]
  },
  {
   "attachments": {},
   "cell_type": "markdown",
   "metadata": {},
   "source": [
    "### Overview\n",
    "\n",
    "ปัญหายาเสพติดเป็นเหมือนโรคเรื้อรังที่กัดกินอนาคตของชาติไทยมานานหลายทศวรรษ แม้จะมีความพยายามจากทุกภาคส่วนในการแก้ไข แต่ปัญหานี้ยังคงฝังรากลึกในสังคมไทย\n",
    "\n",
    "วันนี้กลุ่มของพวกเราจะมานำเสนอข้อมูลเกี่ยวกับยาเสพติด โดยเน้นไปที่จำนวนคดียาเสพติดในแต่ละจังหวัด พร้อมกับค้นหาว่าปัจจัยใดบ้างที่ส่งผลต่อจำนวนความมากน้อยของปัญหายาเสพติดได้ รวมไปถึงหยิบยก insights ที่น่าสนใจ ซึ่งเป็นสาเหตุที่ซ่อนอยู่ในตัวเลขยอดคดียาเสพติดของบางจังหวัดมานำเสนอเพิ่มเติม\n",
    "\n",
    "*หมายเหตุ ข้อมูลจำนวนผู้ต้องหาคดียาเสพติดเป็นเพียงตัวเลขหนึ่งที่สะท้อนถึงปัญหายาเสพติด ว่ามีมากน้อยเพียงใด มิใช่ตัวเลขที่เป็นตัวแทนสะท้อนข้อมูลออกมาได้ทั้งหมด \n"
   ]
  },
  {
   "cell_type": "markdown",
   "metadata": {},
   "source": [
    "### จำนวนคดีผู้ต้องหาคดียาเสพติด เรียงตามจังหวัด ปี 2565"
   ]
  },
  {
   "cell_type": "code",
   "execution_count": null,
   "metadata": {},
   "outputs": [],
   "source": [
    "df = pd.read_csv(\"./data/arrested_drug_cases.csv\", encoding = \"utf8\")\n",
    "df[\"budgetYear\"] = df[\"budgetYear\"].astype(str)\n",
    "\n",
    "df_prov_th_en = pd.read_csv(\"./data/province_th_en.csv\", encoding = \"utf8\")\n",
    "df = pd.merge(df, df_prov_th_en, on='PROV_NAME', how='left').copy()\n",
    "df.head()"
   ]
  },
  {
   "cell_type": "markdown",
   "metadata": {},
   "source": [
    "- bar chart แสดงเปรียบเทียบ 10 จังหวัดที่มีจำนวนคดียาเสพติดสูงสุด ในปี 2565"
   ]
  },
  {
   "cell_type": "code",
   "execution_count": null,
   "metadata": {},
   "outputs": [],
   "source": [
    "df_for_bar = df[['budgetYear', 'PROV_NAME', 'arrestAll_case', 'arrestAll_per', 'prov_en']][df[\"budgetYear\"] == \"2565\"].copy()\n",
    "df_for_bar.sort_values(\"arrestAll_case\", ascending = False, inplace = True)\n",
    "\n",
    "df_top_x = df_for_bar[:10]\n",
    "\n",
    "sns.barplot(\n",
    "    data = df_top_x,\n",
    "    x = \"arrestAll_case\",\n",
    "    y = \"prov_en\",\n",
    "    palette = [\"#a91616\" for _ in range(len(df_top_x))], # just to eliminate warning\n",
    "    hue = \"prov_en\",\n",
    ")\n",
    "\n",
    "plt.xlabel(\"Cases\")\n",
    "plt.ylabel(\"Province\")\n",
    "plt.title(\"Top 10 Highest Drug Arrested Case by Province in 2565\")\n",
    "plt.show()"
   ]
  },
  {
   "cell_type": "markdown",
   "metadata": {},
   "source": [
    "- แยกดูรายจังหวัดทุกปีได้"
   ]
  },
  {
   "cell_type": "code",
   "execution_count": 6,
   "metadata": {},
   "outputs": [],
   "source": [
    "df_interact_prov = df[['budgetYear', 'PROV_NAME', 'arrestAll_case', 'arrestAll_per', 'prov_en']].copy()\n",
    "provinces = sorted(df_interact_prov[\"PROV_NAME\"].unique().tolist())\n",
    "\n",
    "@interact\n",
    "def bar_by_province(province = provinces):\n",
    "    data = df_interact_prov[df[\"PROV_NAME\"] == province]\n",
    "\n",
    "    # average 2 years prior and after to fill the missing value\n",
    "    avg = data[data[\"budgetYear\"].isin([\"2557\", \"2558\", \"2560\", \"2561\"])][\"arrestAll_case\"].mean()\n",
    "    data.loc[data[\"arrestAll_case\"] == 0, \"arrestAll_case\"] = avg.astype(int)\n",
    "\n",
    "    g = sns.barplot(\n",
    "        data = data,\n",
    "        x = \"budgetYear\",\n",
    "        y = \"arrestAll_case\",\n",
    "        palette = [\"#a91616\" for _ in range(len(data))], # just to eliminate warning\n",
    "        hue = \"budgetYear\",\n",
    "    )\n",
    "\n",
    "    prov_en = data[\"prov_en\"].iloc[0]\n",
    "\n",
    "    plt.ylabel(\"Cases\")\n",
    "    plt.xlabel(\"Year\")\n",
    "    plt.title(f\"Number of Cases over the time in {prov_en}\")"
   ]
  },
  {
   "cell_type": "markdown",
   "metadata": {},
   "source": [
    "#### Top 3 Province with Highest Drugs Arrested Case "
   ]
  },
  {
   "cell_type": "code",
   "execution_count": null,
   "metadata": {},
   "outputs": [],
   "source": [
    "Top3 = df[[\"budgetYear\", \"PROV_NAME\", \"arrestAll_case\"]].copy()\n",
    "Top3[\"arrestAll_case\"] = Top3[\"arrestAll_case\"].astype(int)\n",
    "Top3['rank'] = Top3.groupby([\"budgetYear\"])['arrestAll_case'].rank(method='min', ascending = False).copy()\n",
    "RankTop3 = Top3[[\"budgetYear\", \"PROV_NAME\", \"arrestAll_case\", \"rank\"]].copy()\n",
    "RankTop3[RankTop3[\"rank\"] <= 3].sort_values([\"budgetYear\", \"rank\"])"
   ]
  },
  {
   "cell_type": "code",
   "execution_count": null,
   "metadata": {},
   "outputs": [],
   "source": [
    "RankTop3[RankTop3[\"rank\"] <= 3].sort_values([\"budgetYear\", \"rank\"])\n",
    "@interact \n",
    "def filter_year(year=RankTop3[\"budgetYear\"].unique()): \n",
    "    return RankTop3[RankTop3[\"budgetYear\"]== year].sort_values([\"budgetYear\", \"rank\"]) "
   ]
  },
  {
   "cell_type": "markdown",
   "metadata": {},
   "source": [
    "#### ปัจจัยความหนาแน่นประชากร"
   ]
  },
  {
   "cell_type": "code",
   "execution_count": null,
   "metadata": {},
   "outputs": [],
   "source": []
  },
  {
   "attachments": {},
   "cell_type": "markdown",
   "metadata": {},
   "source": [
    "#### ปัจจัยทางเศรษฐกิจ การท่องเที่ยว\n",
    "- กรุงเทพ เชียงใหม่ สงขลา ขอนแก่น  (เดี๋ยวลองดูว่ามีตัวเลขเพิ่มเติมมั้ยมาให้เห็นว่าเป็นจังหวัดท่องเที่ยว) + ตรงนี้อาจจะเอากราฟมาให้ดูอีกที??\n",
    "    ถ้าสังเกตุข้อมูลข้าง้ตนที่ได้นำเสนอไป จะเห็นได้ว่ามีหลายจังหวัด ใน Top 10 Highest  Drug Arrested Case นั้นเป็นประเทศที่มีความโดดเด่น และเป็นจังหวัดแห่งการท่องเที่ยวทั้งสำหรับคนไทย และต่างชาติ\n",
    "\n",
    "    ถึงแม้ว่าจะมีจังหวัดภูเก็ต"
   ]
  },
  {
   "cell_type": "code",
   "execution_count": null,
   "metadata": {},
   "outputs": [],
   "source": []
  },
  {
   "attachments": {},
   "cell_type": "markdown",
   "metadata": {},
   "source": [
    "#### Southern Province Insights\n",
    "พวกเราอาจเคยได้ยินข่าวเรื่องการลักลอบนำเข้าขนส่งยาเสพติดกันบ่อยๆ ตามแถบชายแดนติดฝั่งพม่า หรือทางฝั่งภาคเหนือ\n",
    "\n",
    "แต่จากข้อมูลจะพบได้ว่าจังหวัดในภาคใต้ก็มีจำนวนปัญหายาเสพติดไม่น้อยหน้าเช่นกัน\n",
    "\n",
    "เวลาจับกุมคดีเกี่ยวกับยาเสพติดได้นั้น ไม่ว่าจะจับได้ที่ส่วนไหนของประเทศไทยผู้ต้องหามักจะให้การว่าจะส่งยาไปยังชายแดนใต้ ถึงแม้ว่าตรงชายแดนใต้จะไม่ได้มีการตั้งโรงงานผลิตยา แต่เป็นพื้นที่พักยา เพื่อทำการส่งไปยังประเทศมาเลยเซีย และทวีปอื่นๆทั่วโลก\n",
    "\n",
    "โดนหนึ่งในสาเหตุที่ทำให้ยาเสพติดแพร่ระบาดเยอะคือกระบวนการค้ายาเสพติดถูกสกัดจับได้เพียงแค่ประมาณ 10% จากปริมารการลักลอบนำเข้าทั้งหมด\n",
    "และนอกการการเสพติดพวกยาบ้า ยาไอซ์ ฝิ่นแล้ว ยังเป็นพื้นที่ปลูกพืชยาเสพติด โดยพืชกระท่อมนับเป็นสิ่งที่นิยมกันมากในภาคใต้ เนื่องจากมีราคาถูก"
   ]
  },
  {
   "attachments": {},
   "cell_type": "markdown",
   "metadata": {},
   "source": [
    "-   จังหวัด สงขลา \n",
    "\n",
    "    ในจังหวัดสงขลามีช่องทางสำหรับการลักลอบนำเข้ายาเสพติดจำนวนมาก ทั้งด่านที่เป็นด่านศุลการกร ด่านตรวจคนเข้าเมือง จุดตรวจพรมแดนต่างๆ รวมถึงมีช่องทางธรรมชาติ และยังเป็นจังหวัดที่มีชายแดนติดกับประเทศมาเลเซียด้วย สามารถเข้าออกประเทศกันได้ง่าย \n"
   ]
  },
  {
   "attachments": {},
   "cell_type": "markdown",
   "metadata": {},
   "source": [
    "#### Reversion of Drugs & Alcohol Consumption (ตรงนี้มีตัวเลขอะไรมาสนับสนุนได้มั้ยอ่ะ)"
   ]
  },
  {
   "cell_type": "markdown",
   "metadata": {},
   "source": [
    "ยาเสพติดและเครื่องดื่มแอลกอฮอล์ต่างก็เป็นสารเสพติดเช่นเดียวกัน ดังนั้นหลายคนจึงอาจจะคิดว่าปัญหายาเสพติดและปัญหาการบริโภคเครื่องดื่มแอลกอฮอล์นั้นควรจะมีแนวโน้มไปในทิศทางเดียวกัน ผู้ที่ติดยาเสพติดส่วนใหญ่ก็มีแนวโน้มที่จะติดสุราและดื่มเครื่องดื่มแอลกอฮอล์เป็นประจำด้วย \n",
    "\n",
    "รวมไปถึงผลสำรวจก็พบว่า การติดยาเสพติดโดยเฉพาะในกลุ่มวัยรุ่นจะเริ่มจากการดื่มเครื่องดื่มแอลกอฮอล์ การสูบบุหรี่ ก่อนจะนำไปสู่สารเสพติดชนิดอื่นๆที่มีความรุนแรงขึ้นเรื่อยๆ\n",
    "\n",
    "แต่จากข้อมูลกลับมีจุดน่าสังเกตที่ว่า ภูมิภาคใต้ที่มีผู้ดื่มสุราหรือเครื่องดื่มแอลกอฮอล์และมีความเสี่ยงต่อปัญหาแอลกอฮอล์น้อยที่สุดกลับเป็นภูมิภาคที่มีคดียาเสพติดสูงที่สุด \n",
    "เช่น จังหวัดนครศรีธรรมราช สงขลา สุราษฎร์ธานี ซึ่งเป็นจังหวัดที่มีคดียาเสพติดสูงสุด \n",
    "\n",
    "ในทางกลับกัน จังหวัดที่อยู่ในภาคเหนือ เช่น แม่ฮ่องสอน แพร่ น่าน เชียงราย ที่มีปัญหายาเสพติดน้อย กลับเป็นจังหวัดที่มีความเสี่ยงต่อปัญหาแอลกอฮอล์สูงสุดในประเทศไทย"
   ]
  },
  {
   "cell_type": "code",
   "execution_count": null,
   "metadata": {},
   "outputs": [],
   "source": []
  },
  {
   "attachments": {},
   "cell_type": "markdown",
   "metadata": {},
   "source": [
    "### ข้อเสนอแนะ"
   ]
  },
  {
   "cell_type": "markdown",
   "metadata": {},
   "source": [
    "### References\n",
    "- https://alcoholstudy.in.th/index.php?ct=report_drinker_province&proc=main&year=2564&chart_id=5&len=10&page=0&key=\n",
    "- https://www.thaihealth.or.th/%E0%B8%AB%E0%B9%88%E0%B8%A7%E0%B8%87%E0%B8%9B%E0%B8%B1%E0%B8%8D%E0%B8%AB%E0%B8%B2%E0%B8%A2%E0%B8%B2%E0%B9%80%E0%B8%AA%E0%B8%9E%E0%B8%95%E0%B8%B4%E0%B8%94-%E0%B8%A3%E0%B8%B0%E0%B8%9A%E0%B8%B2%E0%B8%94/\n",
    "- https://www.phufaresthome.com/blog/drug-issue-in-thai-teenager/\n",
    "- https://www.agenda.co.th/social/alcohol-consumption-thailand/"
   ]
  },
  {
   "cell_type": "markdown",
   "metadata": {},
   "source": []
  }
 ],
 "metadata": {
  "kernelspec": {
   "display_name": "base",
   "language": "python",
   "name": "python3"
  },
  "language_info": {
   "codemirror_mode": {
    "name": "ipython",
    "version": 3
   },
   "file_extension": ".py",
   "mimetype": "text/x-python",
   "name": "python",
   "nbconvert_exporter": "python",
   "pygments_lexer": "ipython3",
   "version": "3.10.11"
  },
  "vscode": {
   "interpreter": {
    "hash": "c32264e69f3e92ceb4892f0449cfdc3c4fb687dd6342323bd7ae05c9ee289063"
   }
  }
 },
 "nbformat": 4,
 "nbformat_minor": 2
}
