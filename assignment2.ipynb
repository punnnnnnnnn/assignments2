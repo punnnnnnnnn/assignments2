{
 "cells": [
  {
   "attachments": {},
   "cell_type": "markdown",
   "metadata": {},
   "source": [
    "## Drugs Arrested Case\n",
    "\n",
    "### ปัจจัยที่ส่งผลต่อจำนวนคดีผู้ต้องหายาเสพติด\n",
    "#### by กลุ่ม ทุกปัญหามีทางเข้าเสมอ\n",
    "---"
   ]
  },
  {
   "cell_type": "code",
   "execution_count": 2,
   "metadata": {},
   "outputs": [],
   "source": [
    "import pandas as pd\n",
    "import numpy as np\n",
    "import requests\n",
    "import json, io, time, urllib3, re\n",
    "import matplotlib.pyplot as plt\n",
    "import seaborn as sns\n",
    "from ipywidgets import widgets, interact\n",
    "urllib3.disable_warnings()"
   ]
  },
  {
   "attachments": {},
   "cell_type": "markdown",
   "metadata": {},
   "source": [
    "เกริ่นเรื่องปัญหายาเสพติดในไทย"
   ]
  },
  {
   "cell_type": "markdown",
   "metadata": {},
   "source": [
    "- จำนวนคดีเคส เรียงตามจังหวัด เอาปีล่าสุด - เลือกจังหวัดแสดงผลได้\n",
    "- ดูเทรนด์ rank top 3 แต่ละปี\n",
    "- เอาจังหวัดที่น่าสนใจ(สถิติอยู่ในท็อป3บ่อย) ex.นครศรีธรรมราช กรุงเทพ ปทุม สงขลา ขอนแก่น\n",
    "- ประชากรหนาแน่น ex.กรุงเทพ ขอนแก่น\n",
    "- ดูเรื่องนักท่องเที่ยว ฟีลเมืองเศรษฐกิจ ex.ชลบุรี\n",
    "- หัวข้อภาคใต้ เน้นนครศรี + เรื่องกระท่อม + อาชญากรรมอื่น\n",
    "- การกินเหล้า & เล่นยาสวนทางกัน"
   ]
  },
  {
   "attachments": {},
   "cell_type": "markdown",
   "metadata": {},
   "source": [
    "### Overview\n",
    "\n",
    "ปัญหายาเสพติดเป็นเหมือนโรคเรื้อรังที่กัดกินอนาคตของชาติไทยมานานหลายทศวรรษ แม้จะมีความพยายามจากทุกภาคส่วนในการแก้ไข แต่ปัญหานี้ยังคงฝังรากลึกในสังคมไทย\n",
    "\n",
    "วันนี้กลุ่มของพวกเราจะมานำเสนอข้อมูลเกี่ยวกับยาเสพติด โดยเน้นไปที่จำนวนคดียาเสพติดในแต่ละจังหวัด พร้อมกับค้นหาว่าปัจจัยใดบ้างที่ส่งผลต่อจำนวนความมากน้อยของปัญหายาเสพติดได้ รวมไปถึงหยิบยก insights ที่น่าสนใจ ซึ่งเป็นสาเหตุที่ซ่อนอยู่ในตัวเลขยอดคดียาเสพติดของบางจังหวัดมานำเสนอเพิ่มเติม\n",
    "\n",
    "*หมายเหตุ ข้อมูลจำนวนผู้ต้องหาคดียาเสพติดเป็นเพียงตัวเลขหนึ่งที่สะท้อนถึงปัญหายาเสพติด ว่ามีมากน้อยเพียงใด มิใช่ตัวเลขที่เป็นตัวแทนสะท้อนข้อมูลออกมาได้ทั้งหมด \n"
   ]
  },
  {
   "cell_type": "markdown",
   "metadata": {},
   "source": [
    "### จำนวนคดีผู้ต้องหาคดียาเสพติด เรียงตามจังหวัด ปี 2565"
   ]
  },
  {
   "cell_type": "code",
   "execution_count": 3,
   "metadata": {},
   "outputs": [
    {
     "data": {
      "text/html": [
       "<div>\n",
       "<style scoped>\n",
       "    .dataframe tbody tr th:only-of-type {\n",
       "        vertical-align: middle;\n",
       "    }\n",
       "\n",
       "    .dataframe tbody tr th {\n",
       "        vertical-align: top;\n",
       "    }\n",
       "\n",
       "    .dataframe thead th {\n",
       "        text-align: right;\n",
       "    }\n",
       "</style>\n",
       "<table border=\"1\" class=\"dataframe\">\n",
       "  <thead>\n",
       "    <tr style=\"text-align: right;\">\n",
       "      <th></th>\n",
       "      <th>Unnamed: 0_x</th>\n",
       "      <th>budgetYear</th>\n",
       "      <th>REG_ONCB</th>\n",
       "      <th>REG_NAME</th>\n",
       "      <th>PROV_ID</th>\n",
       "      <th>PROV_NAME</th>\n",
       "      <th>arrestAll_case</th>\n",
       "      <th>arrestAll_per</th>\n",
       "      <th>arrestTreat_case</th>\n",
       "      <th>arrestTreat_per</th>\n",
       "      <th>...</th>\n",
       "      <th>arrestImport_case</th>\n",
       "      <th>arrestImport_per</th>\n",
       "      <th>arrestExport_case</th>\n",
       "      <th>arrestExport_per</th>\n",
       "      <th>arrestJoincase_cas</th>\n",
       "      <th>arrestJoincase_per</th>\n",
       "      <th>arrest5Main_case</th>\n",
       "      <th>arrest5Main_per</th>\n",
       "      <th>Unnamed: 0_y</th>\n",
       "      <th>prov_en</th>\n",
       "    </tr>\n",
       "  </thead>\n",
       "  <tbody>\n",
       "    <tr>\n",
       "      <th>0</th>\n",
       "      <td>0</td>\n",
       "      <td>2557</td>\n",
       "      <td>4</td>\n",
       "      <td>ปปส.ภาค 4</td>\n",
       "      <td>46</td>\n",
       "      <td>กาฬสินธุ์</td>\n",
       "      <td>4119</td>\n",
       "      <td>4341</td>\n",
       "      <td>0</td>\n",
       "      <td>0</td>\n",
       "      <td>...</td>\n",
       "      <td>0.0</td>\n",
       "      <td>0.0</td>\n",
       "      <td>0.0</td>\n",
       "      <td>0.0</td>\n",
       "      <td>0.0</td>\n",
       "      <td>0.0</td>\n",
       "      <td>1073</td>\n",
       "      <td>1256</td>\n",
       "      <td>3</td>\n",
       "      <td>Kalasin</td>\n",
       "    </tr>\n",
       "    <tr>\n",
       "      <th>1</th>\n",
       "      <td>1</td>\n",
       "      <td>2557</td>\n",
       "      <td>4</td>\n",
       "      <td>ปปส.ภาค 4</td>\n",
       "      <td>40</td>\n",
       "      <td>ขอนแก่น</td>\n",
       "      <td>7408</td>\n",
       "      <td>7630</td>\n",
       "      <td>0</td>\n",
       "      <td>0</td>\n",
       "      <td>...</td>\n",
       "      <td>0.0</td>\n",
       "      <td>0.0</td>\n",
       "      <td>0.0</td>\n",
       "      <td>0.0</td>\n",
       "      <td>0.0</td>\n",
       "      <td>0.0</td>\n",
       "      <td>1247</td>\n",
       "      <td>1431</td>\n",
       "      <td>5</td>\n",
       "      <td>Khon Kaen</td>\n",
       "    </tr>\n",
       "    <tr>\n",
       "      <th>2</th>\n",
       "      <td>2</td>\n",
       "      <td>2557</td>\n",
       "      <td>4</td>\n",
       "      <td>ปปส.ภาค 4</td>\n",
       "      <td>48</td>\n",
       "      <td>นครพนม</td>\n",
       "      <td>4511</td>\n",
       "      <td>4637</td>\n",
       "      <td>0</td>\n",
       "      <td>0</td>\n",
       "      <td>...</td>\n",
       "      <td>0.0</td>\n",
       "      <td>0.0</td>\n",
       "      <td>0.0</td>\n",
       "      <td>0.0</td>\n",
       "      <td>0.0</td>\n",
       "      <td>0.0</td>\n",
       "      <td>397</td>\n",
       "      <td>503</td>\n",
       "      <td>19</td>\n",
       "      <td>Nakhon Phanom</td>\n",
       "    </tr>\n",
       "    <tr>\n",
       "      <th>3</th>\n",
       "      <td>3</td>\n",
       "      <td>2557</td>\n",
       "      <td>4</td>\n",
       "      <td>ปปส.ภาค 4</td>\n",
       "      <td>38</td>\n",
       "      <td>บึงกาฬ</td>\n",
       "      <td>2605</td>\n",
       "      <td>2678</td>\n",
       "      <td>0</td>\n",
       "      <td>0</td>\n",
       "      <td>...</td>\n",
       "      <td>0.0</td>\n",
       "      <td>0.0</td>\n",
       "      <td>0.0</td>\n",
       "      <td>0.0</td>\n",
       "      <td>0.0</td>\n",
       "      <td>0.0</td>\n",
       "      <td>284</td>\n",
       "      <td>347</td>\n",
       "      <td>26</td>\n",
       "      <td>Bueng Kan</td>\n",
       "    </tr>\n",
       "    <tr>\n",
       "      <th>4</th>\n",
       "      <td>4</td>\n",
       "      <td>2557</td>\n",
       "      <td>4</td>\n",
       "      <td>ปปส.ภาค 4</td>\n",
       "      <td>44</td>\n",
       "      <td>มหาสารคาม</td>\n",
       "      <td>2709</td>\n",
       "      <td>2773</td>\n",
       "      <td>0</td>\n",
       "      <td>0</td>\n",
       "      <td>...</td>\n",
       "      <td>0.0</td>\n",
       "      <td>0.0</td>\n",
       "      <td>0.0</td>\n",
       "      <td>0.0</td>\n",
       "      <td>0.0</td>\n",
       "      <td>0.0</td>\n",
       "      <td>624</td>\n",
       "      <td>684</td>\n",
       "      <td>42</td>\n",
       "      <td>Maha Sarakham</td>\n",
       "    </tr>\n",
       "  </tbody>\n",
       "</table>\n",
       "<p>5 rows × 28 columns</p>\n",
       "</div>"
      ],
      "text/plain": [
       "   Unnamed: 0_x budgetYear  REG_ONCB   REG_NAME  PROV_ID  PROV_NAME  \\\n",
       "0             0       2557         4  ปปส.ภาค 4       46  กาฬสินธุ์   \n",
       "1             1       2557         4  ปปส.ภาค 4       40    ขอนแก่น   \n",
       "2             2       2557         4  ปปส.ภาค 4       48     นครพนม   \n",
       "3             3       2557         4  ปปส.ภาค 4       38     บึงกาฬ   \n",
       "4             4       2557         4  ปปส.ภาค 4       44  มหาสารคาม   \n",
       "\n",
       "   arrestAll_case  arrestAll_per  arrestTreat_case  arrestTreat_per  ...  \\\n",
       "0            4119           4341                 0                0  ...   \n",
       "1            7408           7630                 0                0  ...   \n",
       "2            4511           4637                 0                0  ...   \n",
       "3            2605           2678                 0                0  ...   \n",
       "4            2709           2773                 0                0  ...   \n",
       "\n",
       "   arrestImport_case  arrestImport_per  arrestExport_case  arrestExport_per  \\\n",
       "0                0.0               0.0                0.0               0.0   \n",
       "1                0.0               0.0                0.0               0.0   \n",
       "2                0.0               0.0                0.0               0.0   \n",
       "3                0.0               0.0                0.0               0.0   \n",
       "4                0.0               0.0                0.0               0.0   \n",
       "\n",
       "   arrestJoincase_cas  arrestJoincase_per  arrest5Main_case  arrest5Main_per  \\\n",
       "0                 0.0                 0.0              1073             1256   \n",
       "1                 0.0                 0.0              1247             1431   \n",
       "2                 0.0                 0.0               397              503   \n",
       "3                 0.0                 0.0               284              347   \n",
       "4                 0.0                 0.0               624              684   \n",
       "\n",
       "   Unnamed: 0_y        prov_en  \n",
       "0             3        Kalasin  \n",
       "1             5      Khon Kaen  \n",
       "2            19  Nakhon Phanom  \n",
       "3            26      Bueng Kan  \n",
       "4            42  Maha Sarakham  \n",
       "\n",
       "[5 rows x 28 columns]"
      ]
     },
     "execution_count": 3,
     "metadata": {},
     "output_type": "execute_result"
    }
   ],
   "source": [
    "df = pd.read_csv(\"./data/arrested_drug_cases.csv\", encoding = \"utf8\")\n",
    "df[\"budgetYear\"] = df[\"budgetYear\"].astype(str)\n",
    "\n",
    "df_prov_th_en = pd.read_csv(\"./data/province_th_en.csv\", encoding = \"utf8\")\n",
    "df = pd.merge(df, df_prov_th_en, on='PROV_NAME', how='left').copy()\n",
    "df.head()"
   ]
  },
  {
   "cell_type": "markdown",
   "metadata": {},
   "source": [
    "- bar chart แสดงเปรียบเทียบ 10 จังหวัดที่มีจำนวนคดียาเสพติดสูงสุด ในปี 2565"
   ]
  },
  {
   "cell_type": "code",
   "execution_count": 46,
   "metadata": {},
   "outputs": [
    {
     "data": {
      "image/png": "[encoded data removed]",
      "text/plain": [
       "<Figure size 640x480 with 1 Axes>"
      ]
     },
     "metadata": {},
     "output_type": "display_data"
    }
   ],
   "source": [
    "df_for_bar = df[['budgetYear', 'PROV_NAME', 'arrestAll_case', 'arrestAll_per', 'prov_en']][df[\"budgetYear\"] == \"2565\"].copy()\n",
    "df_for_bar.sort_values(\"arrestAll_case\", ascending = False, inplace = True)\n",
    "\n",
    "df_top_x = df_for_bar[:10]\n",
    "\n",
    "sns.barplot(\n",
    "    data = df_top_x,\n",
    "    x = \"arrestAll_case\",\n",
    "    y = \"prov_en\",\n",
    "    palette = [\"#cccccc\" for _ in range(len(df_top_x))], # just to eliminate warning\n",
    "    hue = \"prov_en\",\n",
    ")\n",
    "\n",
    "plt.xlabel(\"Cases\")\n",
    "plt.ylabel(\"Province\")\n",
    "plt.title(\"Top 10 Highest Drug Arrested Case by Province in 2565\")\n",
    "plt.show()"
   ]
  },
  {
   "cell_type": "markdown",
   "metadata": {},
   "source": [
    "- แยกดูรายจังหวัดทุกปีได้"
   ]
  },
  {
   "cell_type": "code",
   "execution_count": 45,
   "metadata": {},
   "outputs": [
    {
     "data": {
      "application/vnd.jupyter.widget-view+json": {
       "model_id": "9532245ec2d94d9998294220d72e7fef",
       "version_major": 2,
       "version_minor": 0
      },
      "text/plain": [
       "interactive(children=(Dropdown(description='province', options=('กระบี่', 'กรุงเทพมหานคร', 'กาญจนบุรี', 'กาฬสิ…"
      ]
     },
     "metadata": {},
     "output_type": "display_data"
    }
   ],
   "source": [
    "df_interact_prov = df[['budgetYear', 'PROV_NAME', 'arrestAll_case', 'arrestAll_per', 'prov_en']].copy()\n",
    "provinces = sorted(df_interact_prov[\"PROV_NAME\"].unique().tolist())\n",
    "\n",
    "@interact\n",
    "def bar_by_province(province = provinces):\n",
    "    data = df_interact_prov[df[\"PROV_NAME\"] == province]\n",
    "\n",
    "    # average 2 years prior and after to fill the missing value\n",
    "    avg = data[data[\"budgetYear\"].isin([\"2557\", \"2558\", \"2560\", \"2561\"])][\"arrestAll_case\"].mean()\n",
    "    data.loc[data[\"arrestAll_case\"] == 0, \"arrestAll_case\"] = avg.astype(int)\n",
    "\n",
    "    g = sns.barplot(\n",
    "        data = data,\n",
    "        x = \"budgetYear\",\n",
    "        y = \"arrestAll_case\",\n",
    "        palette = [\"#cccccc\" for _ in range(len(data))], # just to eliminate warning\n",
    "        hue = \"budgetYear\",\n",
    "    )\n",
    "\n",
    "    prov_en = data[\"prov_en\"].iloc[0]\n",
    "\n",
    "    plt.ylabel(\"Cases\")\n",
    "    plt.xlabel(\"Year\")\n",
    "    plt.title(f\"Number of Cases over the time in {prov_en}\")"
   ]
  },
  {
   "cell_type": "markdown",
   "metadata": {},
   "source": [
    "#### Top 3 Province with Highest Drugs Arrested Case "
   ]
  },
  {
   "cell_type": "code",
   "execution_count": null,
   "metadata": {},
   "outputs": [],
   "source": []
  },
  {
   "cell_type": "markdown",
   "metadata": {},
   "source": [
    "#### ปัจจัยความหนาแน่นประชากร"
   ]
  },
  {
   "cell_type": "code",
   "execution_count": null,
   "metadata": {},
   "outputs": [],
   "source": []
  },
  {
   "cell_type": "markdown",
   "metadata": {},
   "source": [
    "#### ปัจจัยทางเศรษฐกิจ การท่องเที่ยว"
   ]
  },
  {
   "cell_type": "code",
   "execution_count": null,
   "metadata": {},
   "outputs": [],
   "source": []
  },
  {
   "attachments": {},
   "cell_type": "markdown",
   "metadata": {},
   "source": [
    "#### Southern Province Insights\n",
    "พวกเราอาจเคยได้ยินข่าวเรื่องการลักลอบนำเข้าขนส่งยาเสพติดกันบ่อยๆ ตามแถบชายแดนติดฝั่งพม่า หรือทางฝั่งภาคเหนือ\n",
    "\n",
    "แต่จากข้อมูลจะพบได้ว่าจังหวัดในภาคใต้ก็มีจำนวนปัญหายาเสพติดไม่น้อยหน้าเช่นกัน\n",
    "\n",
    "โดนหนึ่งในสาเหตุที่ทำให้ยาเสพติดแพร่ระบาดเยอะคือกระบวรการค้ายาเสพติดถูกสกัดจับได้เพียงแค่ประมาณ"
   ]
  },
  {
   "attachments": {},
   "cell_type": "markdown",
   "metadata": {},
   "source": [
    "- ##### จังหวัด สงขลา \n",
    "    ในจังหวัดสงขลามีช่องทางสำหรับการลักลอบนำเข้ายาเสพติดจำนวนมาก ทั้งด่านที่เป็นด่านศุลการกร ด่นตรวจคนเข้าเมือง จุดตรวจพรมแดนต่างๆ รวมถึงมีช่องทางธรรมชาติ\n"
   ]
  },
  {
   "cell_type": "markdown",
   "metadata": {},
   "source": [
    "#### Reversion of Drugs & Alcohol Consumption"
   ]
  },
  {
   "cell_type": "markdown",
   "metadata": {},
   "source": [
    "ยาเสพติดและเครื่องดื่มแอลกอฮอล์ต่างก็เป็นสารเสพติดเช่นเดียวกัน ดังนั้นหลายคนจึงอาจจะคิดว่าปัญหายาเสพติดและปัญหาการบริโภคเครื่องดื่มแอลกอฮอล์นั้นควรจะมีแนวโน้มไปในทิศทางเดียวกัน ผู้ที่ติดยาเสพติดส่วนใหญ่ก็มีแนวโน้มที่จะติดสุราและดื่มเครื่องดื่มแอลกอฮอล์เป็นประจำด้วย \n",
    "\n",
    "รวมไปถึงผลสำรวจก็พบว่า การติดยาเสพติดโดยเฉพาะในกลุ่มวัยรุ่นจะเริ่มจากการดื่มเครื่องดื่มแอลกอฮอล์ การสูบบุหรี่ ก่อนจะนำไปสู่สารเสพติดชนิดอื่นๆที่มีความรุนแรงขึ้นเรื่อยๆ\n",
    "\n",
    "แต่จากข้อมูลกลับมีจุดน่าสังเกตที่ว่า ภูมิภาคใต้ที่มีผู้ดื่มสุราหรือเครื่องดื่มแอลกอฮอล์และมีความเสี่ยงต่อปัญหาแอลกอฮอล์น้อยที่สุดกลับเป็นภูมิภาคที่มีคดียาเสพติดสูงที่สุด \n",
    "เช่น จังหวัดนครศรีธรรมราช จังหวัดสงขลา ซึ่งเป็นจังหวัดที่มีคดียาเสพติดสูงสุด \n",
    "\n",
    "ในทางกลับกัน จังหวัดที่อยู่ในภาคเหนือ เช่น แม่ฮ่องสอน แพร่ น่าน เชียงราย ที่มีปัญหายาเสพติดน้อย กลับเป็นจังหวัดที่มีความเสี่ยงต่อปัญหาแอลกอฮอล์สูงสุดในประเทศไทย"
   ]
  },
  {
   "cell_type": "code",
   "execution_count": null,
   "metadata": {},
   "outputs": [],
   "source": []
  },
  {
   "attachments": {},
   "cell_type": "markdown",
   "metadata": {},
   "source": [
    "### ข้อเสนอแนะ"
   ]
  },
  {
   "cell_type": "markdown",
   "metadata": {},
   "source": [
    "### References\n",
    "- https://alcoholstudy.in.th/index.php?ct=report_drinker_province&proc=main&year=2564&chart_id=5&len=10&page=0&key=\n",
    "- https://www.thaihealth.or.th/%E0%B8%AB%E0%B9%88%E0%B8%A7%E0%B8%87%E0%B8%9B%E0%B8%B1%E0%B8%8D%E0%B8%AB%E0%B8%B2%E0%B8%A2%E0%B8%B2%E0%B9%80%E0%B8%AA%E0%B8%9E%E0%B8%95%E0%B8%B4%E0%B8%94-%E0%B8%A3%E0%B8%B0%E0%B8%9A%E0%B8%B2%E0%B8%94/\n",
    "- https://www.phufaresthome.com/blog/drug-issue-in-thai-teenager/\n",
    "- https://www.agenda.co.th/social/alcohol-consumption-thailand/"
   ]
  },
  {
   "cell_type": "markdown",
   "metadata": {},
   "source": []
  }
 ],
 "metadata": {
  "kernelspec": {
   "display_name": "base",
   "language": "python",
   "name": "python3"
  },
  "language_info": {
   "codemirror_mode": {
    "name": "ipython",
    "version": 3
   },
   "file_extension": ".py",
   "mimetype": "text/x-python",
   "name": "python",
   "nbconvert_exporter": "python",
   "pygments_lexer": "ipython3",
   "version": "3.9.13"
  },
  "vscode": {
   "interpreter": {
    "hash": "c32264e69f3e92ceb4892f0449cfdc3c4fb687dd6342323bd7ae05c9ee289063"
   }
  }
 },
 "nbformat": 4,
 "nbformat_minor": 2
}
