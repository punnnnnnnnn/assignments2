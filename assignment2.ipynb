{
 "cells": [
  {
   "attachments": {},
   "cell_type": "markdown",
   "metadata": {},
   "source": [
    "## Drugs Arrested Case\n",
    "\n",
    "### ปัจจัยที่ส่งผลต่อจำนวนคดีผู้ต้องหายาเสพติด\n",
    "#### by กลุ่ม ทุกปัญหามีทางเข้าเสมอ\n",
    "---"
   ]
  },
  {
   "cell_type": "code",
   "execution_count": 4,
   "metadata": {},
   "outputs": [],
   "source": [
    "import numpy as np\n",
    "import pandas as pd\n",
    "import matplotlib.pyplot as plt\n",
    "import seaborn as sns\n",
    "from ipywidgets import widgets, interact\n",
    "import re"
   ]
  },
  {
   "attachments": {},
   "cell_type": "markdown",
   "metadata": {},
   "source": [
    "เกริ่นเรื่องปัญหายาเสพติดในไทย"
   ]
  },
  {
   "attachments": {},
   "cell_type": "markdown",
   "metadata": {},
   "source": [
    "นำเสนอข้อมูลหลักที่มาใช้ใน งานครั้งนี้\n",
    "- ดึงข้อมูล จำนวนคดี/ผู้ต้องหายาเสพติดในไทยมา โดยอธิบายว่าเรานำข้อมูลตัวนี้มาเป็นเลขตัวแทนของปัญหาการเสพ อาจจะไม่ได้เป็นตัวแทยที่สามารถแทยได้ร้อยเปอร์เซ็นเพียงแค่ดูพวกแนวโน้ม การกระจุกตัวได้เฉยๆ เพราะมันยังมีปัจจัยอื่นๆอีกมากคือ บางพื้นที่ บางช่วงเวลาอาจไม่ได้มีความรัดกุมในการดำเนินคดีไรงี้\n",
    "\n",
    "- ข้อมูลที่เป็นตัวชี้วัดเศรษฐกิจ  ไม่แน่ใจควรทำมั้ยนะ แบบเห็นมีกราฟจำนวนคดีรวมทั้งหมดของแต่ละปีแล้วเหมือนช่วงโควิดจะเยอะกว่าช่วงอื่นนิดหน่อยงี้เผื่อเกี่ยว\n",
    "\n",
    "- จำนวนประชากรแต่ละจังหวัด ทำเป็นความหนาแน่นได้มั้ยนะ??"
   ]
  },
  {
   "cell_type": "markdown",
   "metadata": {},
   "source": [
    "- จำนวนคดีเคส เรียงตามจังหวัด เอาปีล่าสุด - เลือกจังหวัดแสดงผลได้\n",
    "- ดูเทรนด์ rank top 3 แต่ละปี\n",
    "- เอาจังหวัดที่น่าสนใจ(สถิติอยู่ในท็อป3บ่อย) ex.นครศรีธรรมราช กรุงเทพ ปทุม สงขลา ขอนแก่น\n",
    "- ประชากรหนาแน่น ex.กรุงเทพ ขอนแก่น\n",
    "- ดูเรื่องนักท่องเที่ยว ฟีลเมืองเศรษฐกิจ ex.ชลบุรี\n",
    "- หัวข้อภาคใต้ เน้นนครศรี + เรื่องกระท่อม + อาชญากรรมอื่น\n",
    "- การกินเหล้า & เล่นยาสวนทางกัน - "
   ]
  },
  {
   "cell_type": "markdown",
   "metadata": {},
   "source": []
  }
 ],
 "metadata": {
  "kernelspec": {
   "display_name": "Python 3",
   "language": "python",
   "name": "python3"
  },
  "language_info": {
   "codemirror_mode": {
    "name": "ipython",
    "version": 3
   },
   "file_extension": ".py",
   "mimetype": "text/x-python",
   "name": "python",
   "nbconvert_exporter": "python",
   "pygments_lexer": "ipython3",
   "version": "3.11.2"
  },
  "vscode": {
   "interpreter": {
    "hash": "aee8b7b246df8f9039afb4144a1f6fd8d2ca17a180786b69acc140d282b71a49"
   }
  }
 },
 "nbformat": 4,
 "nbformat_minor": 2
}
