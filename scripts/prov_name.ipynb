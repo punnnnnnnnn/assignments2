{
 "cells": [
  {
   "cell_type": "code",
   "execution_count": 3,
   "metadata": {},
   "outputs": [],
   "source": [
    "import pandas as pd\n",
    "import requests\n",
    "import time, io, re"
   ]
  },
  {
   "cell_type": "code",
   "execution_count": 4,
   "metadata": {},
   "outputs": [
    {
     "data": {
      "text/html": [
       "<div>\n",
       "<style scoped>\n",
       "    .dataframe tbody tr th:only-of-type {\n",
       "        vertical-align: middle;\n",
       "    }\n",
       "\n",
       "    .dataframe tbody tr th {\n",
       "        vertical-align: top;\n",
       "    }\n",
       "\n",
       "    .dataframe thead th {\n",
       "        text-align: right;\n",
       "    }\n",
       "</style>\n",
       "<table border=\"1\" class=\"dataframe\">\n",
       "  <thead>\n",
       "    <tr style=\"text-align: right;\">\n",
       "      <th></th>\n",
       "      <th>PROV_NAME</th>\n",
       "      <th>prov_en</th>\n",
       "    </tr>\n",
       "  </thead>\n",
       "  <tbody>\n",
       "    <tr>\n",
       "      <th>0</th>\n",
       "      <td>กรุงเทพมหานคร</td>\n",
       "      <td>Bangkok</td>\n",
       "    </tr>\n",
       "    <tr>\n",
       "      <th>1</th>\n",
       "      <td>กระบี่</td>\n",
       "      <td>Krabi</td>\n",
       "    </tr>\n",
       "    <tr>\n",
       "      <th>2</th>\n",
       "      <td>กาญจนบุรี</td>\n",
       "      <td>Kanchanaburi</td>\n",
       "    </tr>\n",
       "    <tr>\n",
       "      <th>3</th>\n",
       "      <td>กาฬสินธุ์</td>\n",
       "      <td>Kalasin</td>\n",
       "    </tr>\n",
       "    <tr>\n",
       "      <th>4</th>\n",
       "      <td>กำแพงเพชร</td>\n",
       "      <td>Kamphaeng Phet</td>\n",
       "    </tr>\n",
       "  </tbody>\n",
       "</table>\n",
       "</div>"
      ],
      "text/plain": [
       "       PROV_NAME         prov_en\n",
       "0  กรุงเทพมหานคร         Bangkok\n",
       "1         กระบี่           Krabi\n",
       "2      กาญจนบุรี    Kanchanaburi\n",
       "3      กาฬสินธุ์         Kalasin\n",
       "4      กำแพงเพชร  Kamphaeng Phet"
      ]
     },
     "execution_count": 4,
     "metadata": {},
     "output_type": "execute_result"
    }
   ],
   "source": [
    "url = \"https://www.enghero.com/article/%E0%B8%88%E0%B8%B1%E0%B8%87%E0%B8%AB%E0%B8%A7%E0%B8%B1%E0%B8%94%E0%B9%83%E0%B8%99%E0%B8%9B%E0%B8%A3%E0%B8%B0%E0%B9%80%E0%B8%97%E0%B8%A8%E0%B9%84%E0%B8%97%E0%B8%A2-%E0%B8%A0%E0%B8%B2%E0%B8%A9%E0%B8%B2%E0%B8%AD%E0%B8%B1%E0%B8%87%E0%B8%81%E0%B8%A4%E0%B8%A9\"\n",
    "headers = { \"User-Agent\": \"Mozilla\" }\n",
    "response = requests.get(url, headers = headers)\n",
    "dfs = pd.read_html(io.StringIO(response.text))\n",
    "\n",
    "df_prov = dfs[0].drop(\"#\", axis = 1).copy()\n",
    "df_prov.columns = [\"PROV_NAME\", \"prov_en\"]\n",
    "df_prov[\"prov_en\"] = df_prov[\"prov_en\"].str.replace(\" Province\", \"\").apply(lambda x: re.findall(r'\\((.*?)\\)', x)[0] if re.findall(r'\\((.*?)\\)', x) else x).copy()\n",
    "df_prov[\"PROV_NAME\"] = df_prov[\"PROV_NAME\"].str.replace(\"จังหวัด\", \"\")\n",
    "df_prov.head()"
   ]
  },
  {
   "cell_type": "code",
   "execution_count": 5,
   "metadata": {},
   "outputs": [],
   "source": [
    "df_prov.to_csv(\"../data/province_th_en.csv\")"
   ]
  }
 ],
 "metadata": {
  "kernelspec": {
   "display_name": "Python 3",
   "language": "python",
   "name": "python3"
  },
  "language_info": {
   "codemirror_mode": {
    "name": "ipython",
    "version": 3
   },
   "file_extension": ".py",
   "mimetype": "text/x-python",
   "name": "python",
   "nbconvert_exporter": "python",
   "pygments_lexer": "ipython3",
   "version": "3.11.4"
  }
 },
 "nbformat": 4,
 "nbformat_minor": 2
}
