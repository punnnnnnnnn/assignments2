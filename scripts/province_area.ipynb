{
 "cells": [
  {
   "cell_type": "code",
   "execution_count": 2,
   "metadata": {},
   "outputs": [],
   "source": [
    "import pandas as pd"
   ]
  },
  {
   "cell_type": "code",
   "execution_count": 3,
   "metadata": {},
   "outputs": [
    {
     "ename": "ImportError",
     "evalue": "Missing optional dependency 'lxml'.  Use pip or conda to install lxml.",
     "output_type": "error",
     "traceback": [
      "\u001b[0;31m---------------------------------------------------------------------------\u001b[0m",
      "\u001b[0;31mModuleNotFoundError\u001b[0m                       Traceback (most recent call last)",
      "File \u001b[0;32m/Library/Frameworks/Python.framework/Versions/3.11/lib/python3.11/site-packages/pandas/compat/_optional.py:135\u001b[0m, in \u001b[0;36mimport_optional_dependency\u001b[0;34m(name, extra, errors, min_version)\u001b[0m\n\u001b[1;32m    134\u001b[0m \u001b[39mtry\u001b[39;00m:\n\u001b[0;32m--> 135\u001b[0m     module \u001b[39m=\u001b[39m importlib\u001b[39m.\u001b[39;49mimport_module(name)\n\u001b[1;32m    136\u001b[0m \u001b[39mexcept\u001b[39;00m \u001b[39mImportError\u001b[39;00m:\n",
      "File \u001b[0;32m/Library/Frameworks/Python.framework/Versions/3.11/lib/python3.11/importlib/__init__.py:126\u001b[0m, in \u001b[0;36mimport_module\u001b[0;34m(name, package)\u001b[0m\n\u001b[1;32m    125\u001b[0m         level \u001b[39m+\u001b[39m\u001b[39m=\u001b[39m \u001b[39m1\u001b[39m\n\u001b[0;32m--> 126\u001b[0m \u001b[39mreturn\u001b[39;00m _bootstrap\u001b[39m.\u001b[39;49m_gcd_import(name[level:], package, level)\n",
      "File \u001b[0;32m<frozen importlib._bootstrap>:1206\u001b[0m, in \u001b[0;36m_gcd_import\u001b[0;34m(name, package, level)\u001b[0m\n",
      "File \u001b[0;32m<frozen importlib._bootstrap>:1178\u001b[0m, in \u001b[0;36m_find_and_load\u001b[0;34m(name, import_)\u001b[0m\n",
      "File \u001b[0;32m<frozen importlib._bootstrap>:1128\u001b[0m, in \u001b[0;36m_find_and_load_unlocked\u001b[0;34m(name, import_)\u001b[0m\n",
      "File \u001b[0;32m<frozen importlib._bootstrap>:241\u001b[0m, in \u001b[0;36m_call_with_frames_removed\u001b[0;34m(f, *args, **kwds)\u001b[0m\n",
      "File \u001b[0;32m<frozen importlib._bootstrap>:1206\u001b[0m, in \u001b[0;36m_gcd_import\u001b[0;34m(name, package, level)\u001b[0m\n",
      "File \u001b[0;32m<frozen importlib._bootstrap>:1178\u001b[0m, in \u001b[0;36m_find_and_load\u001b[0;34m(name, import_)\u001b[0m\n",
      "File \u001b[0;32m<frozen importlib._bootstrap>:1142\u001b[0m, in \u001b[0;36m_find_and_load_unlocked\u001b[0;34m(name, import_)\u001b[0m\n",
      "\u001b[0;31mModuleNotFoundError\u001b[0m: No module named 'lxml'",
      "\nDuring handling of the above exception, another exception occurred:\n",
      "\u001b[0;31mImportError\u001b[0m                               Traceback (most recent call last)",
      "Cell \u001b[0;32mIn[3], line 3\u001b[0m\n\u001b[1;32m      1\u001b[0m url \u001b[39m=\u001b[39m \u001b[39m\"\u001b[39m\u001b[39mhttps://th.wikipedia.org/wiki/\u001b[39m\u001b[39m%E\u001b[39;00m\u001b[39m0\u001b[39m\u001b[39m%\u001b[39m\u001b[39mB8\u001b[39m\u001b[39m%\u001b[39m\u001b[39mA3\u001b[39m\u001b[39m%E\u001b[39;00m\u001b[39m0\u001b[39m\u001b[39m%\u001b[39m\u001b[39mB8\u001b[39m\u001b[39m%\u001b[39m\u001b[39mB2\u001b[39m\u001b[39m%E\u001b[39;00m\u001b[39m0\u001b[39m\u001b[39m%\u001b[39m\u001b[39mB8\u001b[39m\u001b[39m%\u001b[39m\u001b[39mA2\u001b[39m\u001b[39m%E\u001b[39;00m\u001b[39m0\u001b[39m\u001b[39m%\u001b[39m\u001b[39mB8\u001b[39m\u001b[39m%\u001b[39m\u001b[39m8A\u001b[39m\u001b[39m%E\u001b[39;00m\u001b[39m0\u001b[39m\u001b[39m%\u001b[39m\u001b[39mB8\u001b[39m\u001b[39m%\u001b[39m\u001b[39mB7\u001b[39m\u001b[39m%E\u001b[39;00m\u001b[39m0\u001b[39m\u001b[39m%\u001b[39m\u001b[39mB9\u001b[39m\u001b[39m%88%\u001b[39;00m\u001b[39mE0\u001b[39m\u001b[39m%\u001b[39m\u001b[39mB8\u001b[39m\u001b[39m%\u001b[39m\u001b[39mAD\u001b[39m\u001b[39m%E\u001b[39;00m\u001b[39m0\u001b[39m\u001b[39m%\u001b[39m\u001b[39mB8\u001b[39m\u001b[39m%88%\u001b[39;00m\u001b[39mE0\u001b[39m\u001b[39m%\u001b[39m\u001b[39mB8\u001b[39m\u001b[39m%\u001b[39m\u001b[39mB1\u001b[39m\u001b[39m%E\u001b[39;00m\u001b[39m0\u001b[39m\u001b[39m%\u001b[39m\u001b[39mB8\u001b[39m\u001b[39m%87%\u001b[39;00m\u001b[39mE0\u001b[39m\u001b[39m%\u001b[39m\u001b[39mB8\u001b[39m\u001b[39m%\u001b[39m\u001b[39mAB\u001b[39m\u001b[39m%E\u001b[39;00m\u001b[39m0\u001b[39m\u001b[39m%\u001b[39m\u001b[39mB8\u001b[39m\u001b[39m%\u001b[39m\u001b[39mA7\u001b[39m\u001b[39m%E\u001b[39;00m\u001b[39m0\u001b[39m\u001b[39m%\u001b[39m\u001b[39mB8\u001b[39m\u001b[39m%\u001b[39m\u001b[39mB1\u001b[39m\u001b[39m%E\u001b[39;00m\u001b[39m0\u001b[39m\u001b[39m%\u001b[39m\u001b[39mB8\u001b[39m\u001b[39m%94%\u001b[39;00m\u001b[39mE0\u001b[39m\u001b[39m%\u001b[39m\u001b[39mB8\u001b[39m\u001b[39m%82%\u001b[39;00m\u001b[39mE0\u001b[39m\u001b[39m%\u001b[39m\u001b[39mB8\u001b[39m\u001b[39m%\u001b[39m\u001b[39mAD\u001b[39m\u001b[39m%E\u001b[39;00m\u001b[39m0\u001b[39m\u001b[39m%\u001b[39m\u001b[39mB8\u001b[39m\u001b[39m%87%\u001b[39;00m\u001b[39mE0\u001b[39m\u001b[39m%\u001b[39m\u001b[39mB8\u001b[39m\u001b[39m%\u001b[39m\u001b[39m9B\u001b[39m\u001b[39m%E\u001b[39;00m\u001b[39m0\u001b[39m\u001b[39m%\u001b[39m\u001b[39mB8\u001b[39m\u001b[39m%\u001b[39m\u001b[39mA3\u001b[39m\u001b[39m%E\u001b[39;00m\u001b[39m0\u001b[39m\u001b[39m%\u001b[39m\u001b[39mB8\u001b[39m\u001b[39m%\u001b[39m\u001b[39mB0\u001b[39m\u001b[39m%E\u001b[39;00m\u001b[39m0\u001b[39m\u001b[39m%\u001b[39m\u001b[39mB9\u001b[39m\u001b[39m%80%\u001b[39;00m\u001b[39mE0\u001b[39m\u001b[39m%\u001b[39m\u001b[39mB8\u001b[39m\u001b[39m%97%\u001b[39;00m\u001b[39mE0\u001b[39m\u001b[39m%\u001b[39m\u001b[39mB8\u001b[39m\u001b[39m%\u001b[39m\u001b[39mA8\u001b[39m\u001b[39m%E\u001b[39;00m\u001b[39m0\u001b[39m\u001b[39m%\u001b[39m\u001b[39mB9\u001b[39m\u001b[39m%84%\u001b[39;00m\u001b[39mE0\u001b[39m\u001b[39m%\u001b[39m\u001b[39mB8\u001b[39m\u001b[39m%97%\u001b[39;00m\u001b[39mE0\u001b[39m\u001b[39m%\u001b[39m\u001b[39mB8\u001b[39m\u001b[39m%\u001b[39m\u001b[39mA2\u001b[39m\u001b[39m%E\u001b[39;00m\u001b[39m0\u001b[39m\u001b[39m%\u001b[39m\u001b[39mB9\u001b[39m\u001b[39m%80%\u001b[39;00m\u001b[39mE0\u001b[39m\u001b[39m%\u001b[39m\u001b[39mB8\u001b[39m\u001b[39m%\u001b[39m\u001b[39mA3\u001b[39m\u001b[39m%E\u001b[39;00m\u001b[39m0\u001b[39m\u001b[39m%\u001b[39m\u001b[39mB8\u001b[39m\u001b[39m%\u001b[39m\u001b[39mB5\u001b[39m\u001b[39m%E\u001b[39;00m\u001b[39m0\u001b[39m\u001b[39m%\u001b[39m\u001b[39mB8\u001b[39m\u001b[39m%\u001b[39m\u001b[39mA2\u001b[39m\u001b[39m%E\u001b[39;00m\u001b[39m0\u001b[39m\u001b[39m%\u001b[39m\u001b[39mB8\u001b[39m\u001b[39m%87%\u001b[39;00m\u001b[39mE0\u001b[39m\u001b[39m%\u001b[39m\u001b[39mB8\u001b[39m\u001b[39m%95%\u001b[39;00m\u001b[39mE0\u001b[39m\u001b[39m%\u001b[39m\u001b[39mB8\u001b[39m\u001b[39m%\u001b[39m\u001b[39mB2\u001b[39m\u001b[39m%E\u001b[39;00m\u001b[39m0\u001b[39m\u001b[39m%\u001b[39m\u001b[39mB8\u001b[39m\u001b[39m%\u001b[39m\u001b[39mA1\u001b[39m\u001b[39m%E\u001b[39;00m\u001b[39m0\u001b[39m\u001b[39m%\u001b[39m\u001b[39mB8\u001b[39m\u001b[39m%9E\u001b[39;00m\u001b[39m%E\u001b[39;00m\u001b[39m0\u001b[39m\u001b[39m%\u001b[39m\u001b[39mB8\u001b[39m\u001b[39m%\u001b[39m\u001b[39mB7\u001b[39m\u001b[39m%E\u001b[39;00m\u001b[39m0\u001b[39m\u001b[39m%\u001b[39m\u001b[39mB9\u001b[39m\u001b[39m%89%\u001b[39;00m\u001b[39mE0\u001b[39m\u001b[39m%\u001b[39m\u001b[39mB8\u001b[39m\u001b[39m%99%\u001b[39;00m\u001b[39mE0\u001b[39m\u001b[39m%\u001b[39m\u001b[39mB8\u001b[39m\u001b[39m%97%\u001b[39;00m\u001b[39mE0\u001b[39m\u001b[39m%\u001b[39m\u001b[39mB8\u001b[39m\u001b[39m%\u001b[39m\u001b[39mB5\u001b[39m\u001b[39m%E\u001b[39;00m\u001b[39m0\u001b[39m\u001b[39m%\u001b[39m\u001b[39mB9\u001b[39m\u001b[39m%\u001b[39m\u001b[39m88\u001b[39m\u001b[39m\"\u001b[39m\n\u001b[0;32m----> 3\u001b[0m dfs \u001b[39m=\u001b[39m pd\u001b[39m.\u001b[39;49mread_html(url)\n\u001b[1;32m      4\u001b[0m \u001b[39mlen\u001b[39m(dfs)\n",
      "File \u001b[0;32m/Library/Frameworks/Python.framework/Versions/3.11/lib/python3.11/site-packages/pandas/io/html.py:1246\u001b[0m, in \u001b[0;36mread_html\u001b[0;34m(io, match, flavor, header, index_col, skiprows, attrs, parse_dates, thousands, encoding, decimal, converters, na_values, keep_default_na, displayed_only, extract_links, dtype_backend, storage_options)\u001b[0m\n\u001b[1;32m   1230\u001b[0m \u001b[39mif\u001b[39;00m \u001b[39misinstance\u001b[39m(io, \u001b[39mstr\u001b[39m) \u001b[39mand\u001b[39;00m \u001b[39mnot\u001b[39;00m \u001b[39many\u001b[39m(\n\u001b[1;32m   1231\u001b[0m     [\n\u001b[1;32m   1232\u001b[0m         is_file_like(io),\n\u001b[0;32m   (...)\u001b[0m\n\u001b[1;32m   1236\u001b[0m     ]\n\u001b[1;32m   1237\u001b[0m ):\n\u001b[1;32m   1238\u001b[0m     warnings\u001b[39m.\u001b[39mwarn(\n\u001b[1;32m   1239\u001b[0m         \u001b[39m\"\u001b[39m\u001b[39mPassing literal html to \u001b[39m\u001b[39m'\u001b[39m\u001b[39mread_html\u001b[39m\u001b[39m'\u001b[39m\u001b[39m is deprecated and \u001b[39m\u001b[39m\"\u001b[39m\n\u001b[1;32m   1240\u001b[0m         \u001b[39m\"\u001b[39m\u001b[39mwill be removed in a future version. To read from a \u001b[39m\u001b[39m\"\u001b[39m\n\u001b[0;32m   (...)\u001b[0m\n\u001b[1;32m   1243\u001b[0m         stacklevel\u001b[39m=\u001b[39mfind_stack_level(),\n\u001b[1;32m   1244\u001b[0m     )\n\u001b[0;32m-> 1246\u001b[0m \u001b[39mreturn\u001b[39;00m _parse(\n\u001b[1;32m   1247\u001b[0m     flavor\u001b[39m=\u001b[39;49mflavor,\n\u001b[1;32m   1248\u001b[0m     io\u001b[39m=\u001b[39;49mio,\n\u001b[1;32m   1249\u001b[0m     match\u001b[39m=\u001b[39;49mmatch,\n\u001b[1;32m   1250\u001b[0m     header\u001b[39m=\u001b[39;49mheader,\n\u001b[1;32m   1251\u001b[0m     index_col\u001b[39m=\u001b[39;49mindex_col,\n\u001b[1;32m   1252\u001b[0m     skiprows\u001b[39m=\u001b[39;49mskiprows,\n\u001b[1;32m   1253\u001b[0m     parse_dates\u001b[39m=\u001b[39;49mparse_dates,\n\u001b[1;32m   1254\u001b[0m     thousands\u001b[39m=\u001b[39;49mthousands,\n\u001b[1;32m   1255\u001b[0m     attrs\u001b[39m=\u001b[39;49mattrs,\n\u001b[1;32m   1256\u001b[0m     encoding\u001b[39m=\u001b[39;49mencoding,\n\u001b[1;32m   1257\u001b[0m     decimal\u001b[39m=\u001b[39;49mdecimal,\n\u001b[1;32m   1258\u001b[0m     converters\u001b[39m=\u001b[39;49mconverters,\n\u001b[1;32m   1259\u001b[0m     na_values\u001b[39m=\u001b[39;49mna_values,\n\u001b[1;32m   1260\u001b[0m     keep_default_na\u001b[39m=\u001b[39;49mkeep_default_na,\n\u001b[1;32m   1261\u001b[0m     displayed_only\u001b[39m=\u001b[39;49mdisplayed_only,\n\u001b[1;32m   1262\u001b[0m     extract_links\u001b[39m=\u001b[39;49mextract_links,\n\u001b[1;32m   1263\u001b[0m     dtype_backend\u001b[39m=\u001b[39;49mdtype_backend,\n\u001b[1;32m   1264\u001b[0m     storage_options\u001b[39m=\u001b[39;49mstorage_options,\n\u001b[1;32m   1265\u001b[0m )\n",
      "File \u001b[0;32m/Library/Frameworks/Python.framework/Versions/3.11/lib/python3.11/site-packages/pandas/io/html.py:977\u001b[0m, in \u001b[0;36m_parse\u001b[0;34m(flavor, io, match, attrs, encoding, displayed_only, extract_links, storage_options, **kwargs)\u001b[0m\n\u001b[1;32m    975\u001b[0m retained \u001b[39m=\u001b[39m \u001b[39mNone\u001b[39;00m\n\u001b[1;32m    976\u001b[0m \u001b[39mfor\u001b[39;00m flav \u001b[39min\u001b[39;00m flavor:\n\u001b[0;32m--> 977\u001b[0m     parser \u001b[39m=\u001b[39m _parser_dispatch(flav)\n\u001b[1;32m    978\u001b[0m     p \u001b[39m=\u001b[39m parser(\n\u001b[1;32m    979\u001b[0m         io,\n\u001b[1;32m    980\u001b[0m         compiled_match,\n\u001b[0;32m   (...)\u001b[0m\n\u001b[1;32m    985\u001b[0m         storage_options,\n\u001b[1;32m    986\u001b[0m     )\n\u001b[1;32m    988\u001b[0m     \u001b[39mtry\u001b[39;00m:\n",
      "File \u001b[0;32m/Library/Frameworks/Python.framework/Versions/3.11/lib/python3.11/site-packages/pandas/io/html.py:924\u001b[0m, in \u001b[0;36m_parser_dispatch\u001b[0;34m(flavor)\u001b[0m\n\u001b[1;32m    922\u001b[0m     import_optional_dependency(\u001b[39m\"\u001b[39m\u001b[39mbs4\u001b[39m\u001b[39m\"\u001b[39m)\n\u001b[1;32m    923\u001b[0m \u001b[39melse\u001b[39;00m:\n\u001b[0;32m--> 924\u001b[0m     import_optional_dependency(\u001b[39m\"\u001b[39;49m\u001b[39mlxml.etree\u001b[39;49m\u001b[39m\"\u001b[39;49m)\n\u001b[1;32m    925\u001b[0m \u001b[39mreturn\u001b[39;00m _valid_parsers[flavor]\n",
      "File \u001b[0;32m/Library/Frameworks/Python.framework/Versions/3.11/lib/python3.11/site-packages/pandas/compat/_optional.py:138\u001b[0m, in \u001b[0;36mimport_optional_dependency\u001b[0;34m(name, extra, errors, min_version)\u001b[0m\n\u001b[1;32m    136\u001b[0m \u001b[39mexcept\u001b[39;00m \u001b[39mImportError\u001b[39;00m:\n\u001b[1;32m    137\u001b[0m     \u001b[39mif\u001b[39;00m errors \u001b[39m==\u001b[39m \u001b[39m\"\u001b[39m\u001b[39mraise\u001b[39m\u001b[39m\"\u001b[39m:\n\u001b[0;32m--> 138\u001b[0m         \u001b[39mraise\u001b[39;00m \u001b[39mImportError\u001b[39;00m(msg)\n\u001b[1;32m    139\u001b[0m     \u001b[39mreturn\u001b[39;00m \u001b[39mNone\u001b[39;00m\n\u001b[1;32m    141\u001b[0m \u001b[39m# Handle submodules: if we have submodule, grab parent module from sys.modules\u001b[39;00m\n",
      "\u001b[0;31mImportError\u001b[0m: Missing optional dependency 'lxml'.  Use pip or conda to install lxml."
     ]
    }
   ],
   "source": [
    "url = \"https://th.wikipedia.org/wiki/%E0%B8%A3%E0%B8%B2%E0%B8%A2%E0%B8%8A%E0%B8%B7%E0%B9%88%E0%B8%AD%E0%B8%88%E0%B8%B1%E0%B8%87%E0%B8%AB%E0%B8%A7%E0%B8%B1%E0%B8%94%E0%B8%82%E0%B8%AD%E0%B8%87%E0%B8%9B%E0%B8%A3%E0%B8%B0%E0%B9%80%E0%B8%97%E0%B8%A8%E0%B9%84%E0%B8%97%E0%B8%A2%E0%B9%80%E0%B8%A3%E0%B8%B5%E0%B8%A2%E0%B8%87%E0%B8%95%E0%B8%B2%E0%B8%A1%E0%B8%9E%E0%B8%B7%E0%B9%89%E0%B8%99%E0%B8%97%E0%B8%B5%E0%B9%88\"\n",
    "\n",
    "dfs = pd.read_html(url)\n",
    "len(dfs)"
   ]
  },
  {
   "cell_type": "code",
   "execution_count": null,
   "metadata": {},
   "outputs": [
    {
     "data": {
      "text/html": [
       "<div>\n",
       "<style scoped>\n",
       "    .dataframe tbody tr th:only-of-type {\n",
       "        vertical-align: middle;\n",
       "    }\n",
       "\n",
       "    .dataframe tbody tr th {\n",
       "        vertical-align: top;\n",
       "    }\n",
       "\n",
       "    .dataframe thead th {\n",
       "        text-align: right;\n",
       "    }\n",
       "</style>\n",
       "<table border=\"1\" class=\"dataframe\">\n",
       "  <thead>\n",
       "    <tr style=\"text-align: right;\">\n",
       "      <th></th>\n",
       "      <th>อันดับ</th>\n",
       "      <th>จังหวัด</th>\n",
       "      <th>พื้นที่ (ตารางกิโลเมตร)[1]</th>\n",
       "    </tr>\n",
       "  </thead>\n",
       "  <tbody>\n",
       "    <tr>\n",
       "      <th>0</th>\n",
       "      <td>1</td>\n",
       "      <td>เชียงใหม่</td>\n",
       "      <td>22311.0743</td>\n",
       "    </tr>\n",
       "    <tr>\n",
       "      <th>1</th>\n",
       "      <td>2</td>\n",
       "      <td>นครราชสีมา</td>\n",
       "      <td>20493.464</td>\n",
       "    </tr>\n",
       "    <tr>\n",
       "      <th>2</th>\n",
       "      <td>3</td>\n",
       "      <td>กาญจนบุรี</td>\n",
       "      <td>19483.148</td>\n",
       "    </tr>\n",
       "    <tr>\n",
       "      <th>3</th>\n",
       "      <td>4</td>\n",
       "      <td>ตาก</td>\n",
       "      <td>16406.650</td>\n",
       "    </tr>\n",
       "    <tr>\n",
       "      <th>4</th>\n",
       "      <td>5</td>\n",
       "      <td>อุบลราชธานี</td>\n",
       "      <td>15774.000</td>\n",
       "    </tr>\n",
       "  </tbody>\n",
       "</table>\n",
       "</div>"
      ],
      "text/plain": [
       "   อันดับ      จังหวัด พื้นที่ (ตารางกิโลเมตร)[1]\n",
       "0       1    เชียงใหม่                 22311.0743\n",
       "1       2   นครราชสีมา                  20493.464\n",
       "2       3    กาญจนบุรี                  19483.148\n",
       "3       4          ตาก                  16406.650\n",
       "4       5  อุบลราชธานี                  15774.000"
      ]
     },
     "execution_count": 7,
     "metadata": {},
     "output_type": "execute_result"
    }
   ],
   "source": [
    "df = dfs[0]\n",
    "df.head()"
   ]
  },
  {
   "cell_type": "code",
   "execution_count": 10,
   "metadata": {},
   "outputs": [
    {
     "data": {
      "text/html": [
       "<div>\n",
       "<style scoped>\n",
       "    .dataframe tbody tr th:only-of-type {\n",
       "        vertical-align: middle;\n",
       "    }\n",
       "\n",
       "    .dataframe tbody tr th {\n",
       "        vertical-align: top;\n",
       "    }\n",
       "\n",
       "    .dataframe thead th {\n",
       "        text-align: right;\n",
       "    }\n",
       "</style>\n",
       "<table border=\"1\" class=\"dataframe\">\n",
       "  <thead>\n",
       "    <tr style=\"text-align: right;\">\n",
       "      <th></th>\n",
       "      <th>จังหวัด</th>\n",
       "      <th>พื้นที่ (ตารางกิโลเมตร)[1]</th>\n",
       "    </tr>\n",
       "  </thead>\n",
       "  <tbody>\n",
       "    <tr>\n",
       "      <th>0</th>\n",
       "      <td>เชียงใหม่</td>\n",
       "      <td>22311.0743</td>\n",
       "    </tr>\n",
       "    <tr>\n",
       "      <th>1</th>\n",
       "      <td>นครราชสีมา</td>\n",
       "      <td>20493.464</td>\n",
       "    </tr>\n",
       "    <tr>\n",
       "      <th>2</th>\n",
       "      <td>กาญจนบุรี</td>\n",
       "      <td>19483.148</td>\n",
       "    </tr>\n",
       "    <tr>\n",
       "      <th>3</th>\n",
       "      <td>ตาก</td>\n",
       "      <td>16406.650</td>\n",
       "    </tr>\n",
       "    <tr>\n",
       "      <th>4</th>\n",
       "      <td>อุบลราชธานี</td>\n",
       "      <td>15774.000</td>\n",
       "    </tr>\n",
       "  </tbody>\n",
       "</table>\n",
       "</div>"
      ],
      "text/plain": [
       "       จังหวัด พื้นที่ (ตารางกิโลเมตร)[1]\n",
       "0    เชียงใหม่                 22311.0743\n",
       "1   นครราชสีมา                  20493.464\n",
       "2    กาญจนบุรี                  19483.148\n",
       "3          ตาก                  16406.650\n",
       "4  อุบลราชธานี                  15774.000"
      ]
     },
     "execution_count": 10,
     "metadata": {},
     "output_type": "execute_result"
    }
   ],
   "source": [
    "df.drop(\"อันดับ\", axis = 1, inplace = True)\n",
    "df.head()"
   ]
  },
  {
   "cell_type": "code",
   "execution_count": 22,
   "metadata": {},
   "outputs": [
    {
     "data": {
      "text/html": [
       "<div>\n",
       "<style scoped>\n",
       "    .dataframe tbody tr th:only-of-type {\n",
       "        vertical-align: middle;\n",
       "    }\n",
       "\n",
       "    .dataframe tbody tr th {\n",
       "        vertical-align: top;\n",
       "    }\n",
       "\n",
       "    .dataframe thead th {\n",
       "        text-align: right;\n",
       "    }\n",
       "</style>\n",
       "<table border=\"1\" class=\"dataframe\">\n",
       "  <thead>\n",
       "    <tr style=\"text-align: right;\">\n",
       "      <th></th>\n",
       "      <th>จังหวัด</th>\n",
       "      <th>พื้นที่ (ตารางกิโลเมตร)[1]</th>\n",
       "    </tr>\n",
       "  </thead>\n",
       "  <tbody>\n",
       "    <tr>\n",
       "      <th>46</th>\n",
       "      <td>ยะลา</td>\n",
       "      <td>4,521.078[4]</td>\n",
       "    </tr>\n",
       "  </tbody>\n",
       "</table>\n",
       "</div>"
      ],
      "text/plain": [
       "   จังหวัด พื้นที่ (ตารางกิโลเมตร)[1]\n",
       "46    ยะลา               4,521.078[4]"
      ]
     },
     "execution_count": 22,
     "metadata": {},
     "output_type": "execute_result"
    }
   ],
   "source": [
    "df[df[\"จังหวัด\"] == \"ยะลา\"]"
   ]
  },
  {
   "cell_type": "code",
   "execution_count": 13,
   "metadata": {},
   "outputs": [],
   "source": [
    "df.to_csv(\"../data/prov_area.csv\", encoding = \"utf8\")"
   ]
  }
 ],
 "metadata": {
  "kernelspec": {
   "display_name": "Python 3",
   "language": "python",
   "name": "python3"
  },
  "language_info": {
   "codemirror_mode": {
    "name": "ipython",
    "version": 3
   },
   "file_extension": ".py",
   "mimetype": "text/x-python",
   "name": "python",
   "nbconvert_exporter": "python",
   "pygments_lexer": "ipython3",
   "version": "3.11.2"
  },
  "vscode": {
   "interpreter": {
    "hash": "aee8b7b246df8f9039afb4144a1f6fd8d2ca17a180786b69acc140d282b71a49"
   }
  }
 },
 "nbformat": 4,
 "nbformat_minor": 2
}
