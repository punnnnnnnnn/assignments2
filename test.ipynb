{
 "cells": [
  {
   "cell_type": "code",
   "execution_count": 1,
   "metadata": {},
   "outputs": [
    {
     "data": {
      "text/plain": [
       "True"
      ]
     },
     "execution_count": 1,
     "metadata": {},
     "output_type": "execute_result"
    }
   ],
   "source": [
    "import requests\n",
    "\n",
    "response = requests.get(\"https://raw.githubusercontent.com/apisit/thailand.json/master/thailand.json\")\n",
    "response.ok"
   ]
  },
  {
   "cell_type": "code",
   "execution_count": 8,
   "metadata": {},
   "outputs": [
    {
     "name": "stdout",
     "output_type": "stream",
     "text": [
      "Mae Hong Son\n",
      "Chumphon\n",
      "Nakhon Si Thammarat\n",
      "Phuket\n",
      "Phangnga\n",
      "Ranong\n",
      "Surat Thani\n",
      "Krabi\n",
      "Phatthalung\n",
      "Satun\n",
      "Songkhla\n",
      "Trang\n",
      "Yala\n",
      "Chiang Rai\n",
      "Chiang Mai\n",
      "Lampang\n",
      "Lamphun\n",
      "Nan\n",
      "Phayao\n",
      "Phrae\n",
      "Phitsanulok\n",
      "Sukhothai\n",
      "Uttaradit\n",
      "Kanchanaburi\n",
      "Kamphaeng Phet\n",
      "Phichit\n",
      "Phetchabun\n",
      "Suphan Buri\n",
      "Tak\n",
      "Uthai Thani\n",
      "Ang Thong\n",
      "Chai Nat\n",
      "Lop Buri\n",
      "Nakhon Nayok\n",
      "Prachin Buri\n",
      "Nakhon Sawan\n",
      "Phra Nakhon Si Ayutthaya\n",
      "Pathum Thani\n",
      "Sing Buri\n",
      "Saraburi\n",
      "Bangkok Metropolis\n",
      "Nonthaburi\n",
      "Nakhon Pathom\n",
      "Phetchaburi\n",
      "Prachuap Khiri Khan\n",
      "Ratchaburi\n",
      "Samut Prakan\n",
      "Samut Sakhon\n",
      "Samut Songkhram\n",
      "Si Sa Ket\n",
      "Ubon Ratchathani\n",
      "Amnat Charoen\n",
      "Yasothon\n",
      "Chon Buri\n",
      "Chachoengsao\n",
      "Chanthaburi\n",
      "Sa Kaeo\n",
      "Rayong\n",
      "Trat\n",
      "Buri Ram\n",
      "Chaiyaphum\n",
      "Khon Kaen\n",
      "Kalasin\n",
      "Maha Sarakham\n",
      "Nakhon Ratchasima\n",
      "Roi Et\n",
      "Surin\n",
      "Loei\n",
      "Nong Khai\n",
      "Sakon Nakhon\n",
      "Udon Thani\n",
      "Nong Bua Lam Phu\n",
      "Nakhon Phanom\n",
      "Mukdahan\n",
      "Narathiwat\n",
      "Pattani\n",
      "Bueng Kan\n"
     ]
    }
   ],
   "source": [
    "for each in response.json()[\"features\"]:\n",
    "    province = each[\"properties\"][\"name\"]\n",
    "    print(province)\n"
   ]
  },
  {
   "cell_type": "code",
   "execution_count": null,
   "metadata": {},
   "outputs": [],
   "source": []
  }
 ],
 "metadata": {
  "kernelspec": {
   "display_name": "Python 3",
   "language": "python",
   "name": "python3"
  },
  "language_info": {
   "codemirror_mode": {
    "name": "ipython",
    "version": 3
   },
   "file_extension": ".py",
   "mimetype": "text/x-python",
   "name": "python",
   "nbconvert_exporter": "python",
   "pygments_lexer": "ipython3",
   "version": "3.11.4"
  }
 },
 "nbformat": 4,
 "nbformat_minor": 2
}
